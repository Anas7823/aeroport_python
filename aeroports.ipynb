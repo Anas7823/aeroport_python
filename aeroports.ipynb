{
 "cells": [
  {
   "cell_type": "code",
   "execution_count": 7,
   "metadata": {},
   "outputs": [
    {
     "name": "stdout",
     "output_type": "stream",
     "text": [
      "{'Total Aéroports': 1458, 'Aéroports de Départ': 3, 'Aéroports de Destination': 103, 'Aéroports sans DST': 23, 'Fuseaux Horaires': 7, 'Total Compagnies': 16, 'Total Avions': 3322, 'Vols Annulés': 0}\n"
     ]
    }
   ],
   "source": [
    "import pandas as pd\n",
    "\n",
    "# Charger les données depuis des fichiers CSV (ajustez les chemins selon vos fichiers)\n",
    "airports = pd.read_csv('csv/airports.csv')\n",
    "flights = pd.read_csv('csv/flights.csv')  \n",
    "airlines = pd.read_csv('csv/airlines.csv')\n",
    "planes = pd.read_csv('csv/planes.csv')\n",
    "\n",
    "\n",
    "# 1. Statistiques sur les aéroports\n",
    "total_airports = airports.shape[0]\n",
    "departure_airports = flights['origin'].nunique()\n",
    "destination_airports = flights['dest'].nunique()\n",
    "\n",
    "# Aéroports sans DST\n",
    "airports_without_dst = airports[airports['dst'] == 'N'].shape[0]\n",
    "\n",
    "# Nombre de fuseaux horaires (sans '/N')\n",
    "time_zones = airports['tz'].nunique()\n",
    "\n",
    "# Compte de compagnies, avions et vols annulés\n",
    "total_companies = airlines.shape[0]\n",
    "total_planes = planes.shape[0]  # Remplacez 'planes' par le DataFrame approprié\n",
    "cancelled_flights = flights[flights['arr_delay'].isna()].shape[0]\n",
    "\n",
    "results_1 = {\n",
    "    \"Total Aéroports\": total_airports,\n",
    "    \"Aéroports de Départ\": departure_airports,\n",
    "    \"Aéroports de Destination\": destination_airports,\n",
    "    \"Aéroports sans DST\": airports_without_dst,\n",
    "    \"Fuseaux Horaires\": time_zones,\n",
    "    \"Total Compagnies\": total_companies,\n",
    "    \"Total Avions\": total_planes,\n",
    "    \"Vols Annulés\": cancelled_flights\n",
    "}\n",
    "\n",
    "print(results_1)\n"
   ]
  },
  {
   "cell_type": "code",
   "execution_count": 8,
   "metadata": {},
   "outputs": [
    {
     "name": "stdout",
     "output_type": "stream",
     "text": [
      "{'Aéroport le plus emprunté': 'EWR', 'Top 10 Destinations':   Destination  Nombre de Vols  Pourcentage\n",
      "0         ATL           12946     5.122990\n",
      "1         ORD           12654     5.007440\n",
      "2         LAX           11895     4.707088\n",
      "3         BOS           11560     4.574522\n",
      "4         MCO           10637     4.209273\n",
      "5         CLT           10448     4.134481\n",
      "6         SFO            9729     3.849959\n",
      "7         FLL            9443     3.736783\n",
      "8         MIA            8938     3.536944\n",
      "9         DCA            7386     2.922787, 'Bottom 10 Destinations':   Destination  Nombre de Vols  Pourcentage\n",
      "0         CHO              31     0.012267\n",
      "1         JAC              25     0.009893\n",
      "2         BZN              20     0.007914\n",
      "3         PSP              19     0.007519\n",
      "4         EYW              17     0.006727\n",
      "5         TVC              16     0.006332\n",
      "6         MTJ              15     0.005936\n",
      "7         HDN              15     0.005936\n",
      "8         SBN               4     0.001583\n",
      "9         LEX               1     0.000396, 'Top 10 Avions': tailnum\n",
      "0         1973\n",
      "N725MQ     443\n",
      "N723MQ     394\n",
      "N713MQ     385\n",
      "N722MQ     378\n",
      "N711MQ     376\n",
      "N258JB     332\n",
      "N353JB     316\n",
      "N542MQ     310\n",
      "N351JB     310\n",
      "Name: count, dtype: int64}\n"
     ]
    }
   ],
   "source": [
    "# 2. Aéroport de départ le plus emprunté\n",
    "most_popular_origin = flights['origin'].value_counts().idxmax()\n",
    "\n",
    "# 10 destinations les plus prisées\n",
    "top_10_destinations = (\n",
    "    flights['dest']\n",
    "    .value_counts()\n",
    "    .head(10)\n",
    "    .reset_index()\n",
    ")\n",
    "top_10_destinations.columns = ['Destination', 'Nombre de Vols']\n",
    "top_10_destinations['Pourcentage'] = (top_10_destinations['Nombre de Vols'] / flights.shape[0]) * 100\n",
    "\n",
    "# 10 destinations les moins prisées\n",
    "bottom_10_destinations = (\n",
    "    flights['dest']\n",
    "    .value_counts()\n",
    "    .tail(10)\n",
    "    .reset_index()\n",
    ")\n",
    "bottom_10_destinations.columns = ['Destination', 'Nombre de Vols']\n",
    "bottom_10_destinations['Pourcentage'] = (bottom_10_destinations['Nombre de Vols'] / flights.shape[0]) * 100\n",
    "\n",
    "# 10 avions qui ont le plus décollé\n",
    "top_10_planes = flights['tailnum'].value_counts().head(10)\n",
    "\n",
    "results_2 = {\n",
    "    \"Aéroport le plus emprunté\": most_popular_origin,\n",
    "    \"Top 10 Destinations\": top_10_destinations,\n",
    "    \"Bottom 10 Destinations\": bottom_10_destinations,\n",
    "    \"Top 10 Avions\": top_10_planes\n",
    "}\n",
    "\n",
    "print(results_2)"
   ]
  },
  {
   "cell_type": "code",
   "execution_count": 9,
   "metadata": {},
   "outputs": [
    {
     "data": {
      "image/png": "[encoded data removed]",
      "text/plain": [
       "<Figure size 1200x600 with 1 Axes>"
      ]
     },
     "metadata": {},
     "output_type": "display_data"
    }
   ],
   "source": [
    "# 3. Destinations desservies par chaque compagnie\n",
    "destinations_per_company = flights.groupby('carrier')['dest'].nunique().reset_index()\n",
    "\n",
    "# Destinations desservies par compagnie et aéroport d'origine\n",
    "destinations_per_company_by_origin = flights.groupby(['carrier', 'origin'])['dest'].nunique().reset_index()\n",
    "\n",
    "# Visualisation\n",
    "import matplotlib.pyplot as plt\n",
    "import seaborn as sns\n",
    "\n",
    "# Graphique du nombre de destinations par compagnie\n",
    "plt.figure(figsize=(12, 6))\n",
    "sns.barplot(data=destinations_per_company, x='carrier', y='dest')\n",
    "plt.title('Destinations par Compagnie')\n",
    "plt.ylabel('Nombre de Destinations')\n",
    "plt.show()\n"
   ]
  },
  {
   "cell_type": "code",
   "execution_count": 10,
   "metadata": {},
   "outputs": [
    {
     "name": "stdout",
     "output_type": "stream",
     "text": [
      "{'Vols à Houston': 6958, 'Vols de NYC à Seattle': 2736, 'Compagnies uniques à Seattle': 5, 'Avions uniques à Seattle': 857}\n"
     ]
    }
   ],
   "source": [
    "# 4. Vols à Houston (IAH ou HOU)\n",
    "flights_to_houston = flights[flights['dest'].isin(['IAH', 'HOU'])]\n",
    "\n",
    "# Vols de NYC vers Seattle\n",
    "flights_nyc_to_seattle = flights[(flights['origin'].isin(['JFK', 'LGA', 'EWR'])) & (flights['dest'] == 'SEA')]\n",
    "\n",
    "# Nombre de compagnies et avions uniques\n",
    "unique_companies_to_seattle = flights_nyc_to_seattle['carrier'].nunique()\n",
    "unique_planes_to_seattle = flights_nyc_to_seattle['tailnum'].nunique()\n",
    "\n",
    "results_4 = {\n",
    "    \"Vols à Houston\": flights_to_houston.shape[0],\n",
    "    \"Vols de NYC à Seattle\": flights_nyc_to_seattle.shape[0],\n",
    "    \"Compagnies uniques à Seattle\": unique_companies_to_seattle,\n",
    "    \"Avions uniques à Seattle\": unique_planes_to_seattle\n",
    "}\n",
    "\n",
    "print(results_4)\n"
   ]
  },
  {
   "cell_type": "code",
   "execution_count": 11,
   "metadata": {},
   "outputs": [
    {
     "name": "stdout",
     "output_type": "stream",
     "text": [
      "{'Vols par Destination':     Destination  Nombre de Vols\n",
      "0           ATL           12946\n",
      "1           ORD           12654\n",
      "2           LAX           11895\n",
      "3           BOS           11560\n",
      "4           MCO           10637\n",
      "..          ...             ...\n",
      "98          TVC              16\n",
      "99          MTJ              15\n",
      "100         HDN              15\n",
      "101         SBN               4\n",
      "102         LEX               1\n",
      "\n",
      "[103 rows x 2 columns], 'Vols Triés':        origin dest carrier\n",
      "27881     JFK  ABQ      B6\n",
      "28867     JFK  ABQ      B6\n",
      "29830     JFK  ABQ      B6\n",
      "30848     JFK  ABQ      B6\n",
      "31579     JFK  ABQ      B6\n",
      "...       ...  ...     ...\n",
      "251184    LGA  XNA      MQ\n",
      "251512    LGA  XNA      MQ\n",
      "251960    LGA  XNA      MQ\n",
      "252110    LGA  XNA      MQ\n",
      "252449    LGA  XNA      MQ\n",
      "\n",
      "[252704 rows x 3 columns]}\n"
     ]
    }
   ],
   "source": [
    "# 5. Nombre de vols par destination\n",
    "flights_per_destination = flights['dest'].value_counts().reset_index()\n",
    "flights_per_destination.columns = ['Destination', 'Nombre de Vols']\n",
    "\n",
    "# Tri par destination, aéroport d'origine et compagnie\n",
    "sorted_flights = flights.merge(airports[['faa', 'name']], left_on='origin', right_on='faa')\n",
    "sorted_flights = sorted_flights.sort_values(by=['dest', 'origin', 'carrier'])\n",
    "\n",
    "results_5 = {\n",
    "    \"Vols par Destination\": flights_per_destination,\n",
    "    \"Vols Triés\": sorted_flights[['origin', 'dest', 'carrier']]\n",
    "}\n",
    "\n",
    "print(results_5)\n"
   ]
  },
  {
   "cell_type": "code",
   "execution_count": 12,
   "metadata": {},
   "outputs": [
    {
     "name": "stdout",
     "output_type": "stream",
     "text": [
      "Compagnies n'opérant pas sur tous les aéroports d'origine: ['9E', 'AA', 'AS', 'B6', 'DL', 'EV', 'F9', 'FL', 'HA', 'MQ', 'OO', 'UA', 'US', 'VX', 'WN', 'YV']\n"
     ]
    }
   ],
   "source": [
    "# 6. Compagnies n'opérant pas sur tous les aéroports d'origine\n",
    "all_origins = airports['faa'].nunique()\n",
    "operating_companies = flights.groupby('carrier')['origin'].nunique()\n",
    "companies_not_all_origins = operating_companies[operating_companies < all_origins].index.tolist()\n",
    "\n",
    "print(\"Compagnies n'opérant pas sur tous les aéroports d'origine:\", companies_not_all_origins)\n"
   ]
  },
  {
   "cell_type": "code",
   "execution_count": 13,
   "metadata": {},
   "outputs": [
    {
     "name": "stdout",
     "output_type": "stream",
     "text": [
      "Compagnies desservant l'ensemble des destinations: []\n",
      "       origin dest carrier\n",
      "0         EWR  IAH      UA\n",
      "1         LGA  IAH      UA\n",
      "2         JFK  MIA      AA\n",
      "3         JFK  BQN      B6\n",
      "4         LGA  ATL      DL\n",
      "...       ...  ...     ...\n",
      "235071    LGA  TVC      MQ\n",
      "235657    LGA  BTV      9E\n",
      "235826    LGA  MYR      EV\n",
      "235891    EWR  DTW      OO\n",
      "242117    LGA  TVC      EV\n",
      "\n",
      "[431 rows x 3 columns]\n"
     ]
    }
   ],
   "source": [
    "# 7. Compagnies qui desservent l'ensemble des destinations\n",
    "all_destinations = flights['dest'].nunique()\n",
    "operating_companies_all_dest = flights.groupby('carrier')['dest'].nunique()\n",
    "companies_all_dest = operating_companies_all_dest[operating_companies_all_dest == all_destinations].index.tolist()\n",
    "\n",
    "print(\"Compagnies desservant l'ensemble des destinations:\", companies_all_dest)\n",
    "\n",
    "# Tableau avec toutes les origines et destinations\n",
    "all_routes = flights[['origin', 'dest', 'carrier']].drop_duplicates()\n",
    "print(all_routes)\n"
   ]
  },
  {
   "cell_type": "code",
   "execution_count": 14,
   "metadata": {},
   "outputs": [
    {
     "name": "stdout",
     "output_type": "stream",
     "text": [
      "Destinations exclusives à certaines compagnies: Empty DataFrame\n",
      "Columns: [dest, carrier]\n",
      "Index: []\n"
     ]
    }
   ],
   "source": [
    "# 8. Destinations exclusives à certaines compagnies\n",
    "exclusive_destinations = flights.groupby('dest')['carrier'].nunique()\n",
    "exclusive_destinations = exclusive_destinations[exclusive_destinations > 1].reset_index()\n",
    "exclusive_destinations = exclusive_destinations[exclusive_destinations['carrier'] == 1]\n",
    "\n",
    "print(\"Destinations exclusives à certaines compagnies:\", exclusive_destinations)\n"
   ]
  },
  {
   "cell_type": "code",
   "execution_count": 15,
   "metadata": {},
   "outputs": [
    {
     "name": "stdout",
     "output_type": "stream",
     "text": [
      "Vols par United, American ou Delta:         year  month  day  dep_time  sched_dep_time  dep_delay  arr_time  \\\n",
      "0       2021      1    1       517             515          2       830   \n",
      "1       2021      1    1       533             529          4       850   \n",
      "2       2021      1    1       542             540          2       923   \n",
      "4       2021      1    1       554             600         -6       812   \n",
      "5       2021      1    1       554             558         -4       740   \n",
      "...      ...    ...  ...       ...             ...        ...       ...   \n",
      "252689  2021      7    3      1048            1055         -7      1330   \n",
      "252692  2021      7    3      1052            1100         -8      1328   \n",
      "252695  2021      7    3      1056            1055          1      1359   \n",
      "252696  2021      7    3      1057            1059         -2      1249   \n",
      "252698  2021      7    3      1059            1100         -1      1340   \n",
      "\n",
      "        sched_arr_time  arr_delay carrier  flight tailnum origin dest  \\\n",
      "0                  819         11      UA    1545  N14228    EWR  IAH   \n",
      "1                  830         20      UA    1714  N24211    LGA  IAH   \n",
      "2                  850         33      AA    1141  N619AA    JFK  MIA   \n",
      "4                  837        -25      DL     461  N668DN    LGA  ATL   \n",
      "5                  728         12      UA    1696  N39463    EWR  ORD   \n",
      "...                ...        ...     ...     ...     ...    ...  ...   \n",
      "252689            1347        -17      DL    1275  N389DA    JFK  SLC   \n",
      "252692            1332         -4      UA    1695  N76522    EWR  IAH   \n",
      "252695            1411        -12      DL    1903  N364NB    LGA  SRQ   \n",
      "252696            1307        -18      UA     765  N469UA    EWR  DEN   \n",
      "252698            1349         -9      DL     695  N910DE    JFK  MCO   \n",
      "\n",
      "        air_time  distance  hour  minute             time_hour  \n",
      "0            227      1400     5      15  2021-01-01T05:00:00Z  \n",
      "1            227      1416     5      29  2021-01-01T05:00:00Z  \n",
      "2            160      1089     5      40  2021-01-01T05:00:00Z  \n",
      "4            116       762     6       0  2021-01-01T06:00:00Z  \n",
      "5            150       719     5      58  2021-01-01T05:00:00Z  \n",
      "...          ...       ...   ...     ...                   ...  \n",
      "252689       256      1990    10      55  2021-07-03T10:00:00Z  \n",
      "252692       189      1400    11       0  2021-07-03T11:00:00Z  \n",
      "252695       154      1047    10      55  2021-07-03T10:00:00Z  \n",
      "252696       202      1605    10      59  2021-07-03T10:00:00Z  \n",
      "252698       135       944    11       0  2021-07-03T11:00:00Z  \n",
      "\n",
      "[104742 rows x 19 columns]\n"
     ]
    }
   ],
   "source": [
    "# 9. Vols exploités par United, American ou Delta\n",
    "specific_companies_flights = flights[flights['carrier'].isin(['UA', 'AA', 'DL'])]\n",
    "\n",
    "print(\"Vols par United, American ou Delta:\", specific_companies_flights)\n"
   ]
  }
 ],
 "metadata": {
  "kernelspec": {
   "display_name": "base",
   "language": "python",
   "name": "python3"
  },
  "language_info": {
   "codemirror_mode": {
    "name": "ipython",
    "version": 3
   },
   "file_extension": ".py",
   "mimetype": "text/x-python",
   "name": "python",
   "nbconvert_exporter": "python",
   "pygments_lexer": "ipython3",
   "version": "3.11.3"
  }
 },
 "nbformat": 4,
 "nbformat_minor": 2
}
